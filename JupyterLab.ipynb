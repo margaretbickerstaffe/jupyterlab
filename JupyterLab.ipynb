{
 "cells": [
  {
   "cell_type": "code",
   "execution_count": null,
   "id": "e992cb4a-cc5e-4096-af35-d782e6fb25d6",
   "metadata": {},
   "outputs": [],
   "source": [
    "\"JupyterLab\"\n"
   ]
  },
  {
   "cell_type": "code",
   "execution_count": null,
   "id": "6cadef3e-8850-44dd-af34-471de2d4e944",
   "metadata": {},
   "outputs": [],
   "source": [
    "\"Hi my name is Maggie\""
   ]
  },
  {
   "cell_type": "code",
   "execution_count": null,
   "id": "8355c524-188b-4f2d-bcae-573391dd6d76",
   "metadata": {},
   "outputs": [],
   "source": [
    "\"Python, R, SQL\""
   ]
  },
  {
   "cell_type": "code",
   "execution_count": null,
   "id": "1881d7d1-2682-4e65-9ef2-ed41590e790d",
   "metadata": {},
   "outputs": [],
   "source": [
    "\"Apache, Matlab\""
   ]
  },
  {
   "cell_type": "code",
   "execution_count": null,
   "id": "e7400a34-8a83-42b6-88b7-b44edfb40237",
   "metadata": {},
   "outputs": [],
   "source": [
    "\"Pandas, Tableau\""
   ]
  },
  {
   "cell_type": "code",
   "execution_count": 2,
   "id": "babf75f7-b154-4174-95e6-6deb29d2aabb",
   "metadata": {},
   "outputs": [
    {
     "name": "stdout",
     "output_type": "stream",
     "text": [
      "6\n"
     ]
    }
   ],
   "source": [
    "var1 = 2\n",
    "var2 = 4\n",
    "add = var2 + var1\n",
    "print(add)"
   ]
  },
  {
   "cell_type": "code",
   "execution_count": 3,
   "id": "1cd03886-7ea8-4468-966a-5e76ff1df0ea",
   "metadata": {},
   "outputs": [
    {
     "name": "stdout",
     "output_type": "stream",
     "text": [
      "8\n"
     ]
    }
   ],
   "source": [
    "var1 = 2\n",
    "var2 = 4\n",
    "multiply = var2 * var1\n",
    "print(multiply)"
   ]
  },
  {
   "cell_type": "code",
   "execution_count": 4,
   "id": "3dda5cd0-1204-47dd-af2e-2dda37b531f0",
   "metadata": {},
   "outputs": [
    {
     "name": "stdout",
     "output_type": "stream",
     "text": [
      "2.0\n"
     ]
    }
   ],
   "source": [
    "minutes = 120\n",
    "hours = minutes/60\n",
    "print(hours)"
   ]
  },
  {
   "cell_type": "code",
   "execution_count": null,
   "id": "44e9874d-05ee-40f6-9b5e-38681e09723d",
   "metadata": {},
   "outputs": [],
   "source": [
    "#Objective 1\n",
    "#Objective 2\n",
    "#Objective 3"
   ]
  },
  {
   "cell_type": "code",
   "execution_count": null,
   "id": "d4748c4a-297d-44f2-b749-bef3531adec4",
   "metadata": {},
   "outputs": [],
   "source": [
    "Maggie"
   ]
  }
 ],
 "metadata": {
  "kernelspec": {
   "display_name": "Python 3 (ipykernel)",
   "language": "python",
   "name": "python3"
  },
  "language_info": {
   "codemirror_mode": {
    "name": "ipython",
    "version": 3
   },
   "file_extension": ".py",
   "mimetype": "text/x-python",
   "name": "python",
   "nbconvert_exporter": "python",
   "pygments_lexer": "ipython3",
   "version": "3.12.8"
  }
 },
 "nbformat": 4,
 "nbformat_minor": 5
}
